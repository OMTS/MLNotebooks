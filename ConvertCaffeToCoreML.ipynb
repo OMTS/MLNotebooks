{
 "cells": [
  {
   "cell_type": "markdown",
   "metadata": {},
   "source": [
    "# Conf"
   ]
  },
  {
   "cell_type": "markdown",
   "metadata": {},
   "source": [
    "Make sure you run anaconda distribution 2.7.14\n",
    "\n",
    "conda create --name _name_\n",
    "\n",
    "source activate _name_ \n",
    "\n",
    "Run pip install -U coremltools\n",
    "\n",
    "Create and activate a virtual environnement.\n",
    "See https://www.appcoda.com/core-ml-tools-conversion/ for a detailed step by step tutorial\n",
    "\n",
    "Another approach is the one described on Apple's github : https://github.com/apple/coremltools"
   ]
  },
  {
   "cell_type": "code",
   "execution_count": 9,
   "metadata": {
    "collapsed": true
   },
   "outputs": [],
   "source": [
    "import coremltools"
   ]
  },
  {
   "cell_type": "code",
   "execution_count": 2,
   "metadata": {
    "collapsed": true
   },
   "outputs": [],
   "source": [
    "coreml_model = coremltools.converters.caffe.convert(('oxford102.caffemodel', 'deploy.prototxt'), image_input_names='data', class_labels='class_labels.txt')"
   ]
  },
  {
   "cell_type": "code",
   "execution_count": 3,
   "metadata": {
    "collapsed": true
   },
   "outputs": [],
   "source": [
    "coreml_model.save('Flowers.mlmodel')"
   ]
  },
  {
   "cell_type": "code",
   "execution_count": 6,
   "metadata": {
    "scrolled": false
   },
   "outputs": [
    {
     "name": "stdout",
     "output_type": "stream",
     "text": [
      "total 895152\r\n",
      "drwxr-xr-x@ 10 iman  staff        320 19 déc 16:12 \u001b[1m\u001b[36m.\u001b[m\u001b[m/\r\n",
      "drwxr-xr-x@ 49 iman  staff       1568 19 déc 15:56 \u001b[1m\u001b[36m..\u001b[m\u001b[m/\r\n",
      "-rw-r--r--@  1 iman  staff       6148  4 aoû 08:35 .DS_Store\r\n",
      "drwxr-xr-x   3 iman  staff         96 19 déc 15:59 \u001b[1m\u001b[36m.ipynb_checkpoints\u001b[m\u001b[m/\r\n",
      "-rw-r--r--   1 iman  staff       1098 19 déc 16:08 ConvertCaffeToCoreML.ipynb\r\n",
      "-rw-r--r--   1 iman  staff  229147525 19 déc 16:13 Flowers.mlmodel\r\n",
      "drwxr-xr-x   5 iman  staff        160 19 déc 16:00 \u001b[1m\u001b[36mStarter Xcode Project\u001b[m\u001b[m/\r\n",
      "-rwxr-xr-x@  1 iman  staff       1513 17 jui  2017 \u001b[31mclass_labels.txt\u001b[m\u001b[m*\r\n",
      "-rwxr-xr-x@  1 iman  staff       3397 24 déc  2015 \u001b[31mdeploy.prototxt\u001b[m\u001b[m*\r\n",
      "-rw-r--r--@  1 iman  staff  229146041 17 jui  2017 oxford102.caffemodel\r\n"
     ]
    }
   ],
   "source": [
    "%ls -al"
   ]
  }
 ],
 "metadata": {
  "kernelspec": {
   "display_name": "Python 2",
   "language": "python",
   "name": "python2"
  },
  "language_info": {
   "codemirror_mode": {
    "name": "ipython",
    "version": 2
   },
   "file_extension": ".py",
   "mimetype": "text/x-python",
   "name": "python",
   "nbconvert_exporter": "python",
   "pygments_lexer": "ipython2",
   "version": "2.7.14"
  }
 },
 "nbformat": 4,
 "nbformat_minor": 2
}
